{
 "cells": [
  {
   "cell_type": "code",
   "execution_count": 1,
   "metadata": {
    "id": "fCgqkjMszGUV"
   },
   "outputs": [],
   "source": [
    "import os\n",
    "import json\n",
    "import pandas as pd\n",
    "from matplotlib import pyplot as plt\n",
    "\n",
    "# Return the earliest date from an array of concert information\n",
    "def firstConcertDate(concert_array):\n",
    "    concert_dates = []\n",
    "\n",
    "    for concert in concert_array:\n",
    "        concert_dates.append(concert['Date'])\n",
    "\n",
    "    concert_dates.sort()\n",
    "    earliest_date = concert_dates[0]\n",
    "\n",
    "    return earliest_date"
   ]
  },
  {
   "cell_type": "code",
   "execution_count": 2,
   "metadata": {
    "id": "7WNxtmT70hiV"
   },
   "outputs": [],
   "source": [
    "# Import New York Phil Performance History from JSON file to a dictionary\n",
    "perf_history = {}\n",
    "\n",
    "with open('nyphilarchive_performance_history/Programs/json/complete.json', 'r') as json_file:\n",
    "    perf_history = json.load(json_file)\n",
    "\n",
    "perf_history_records = perf_history['programs']"
   ]
  },
  {
   "cell_type": "code",
   "execution_count": 15,
   "metadata": {
    "colab": {
     "base_uri": "https://localhost:8080/",
     "height": 1000
    },
    "id": "p9FP9Fjq29Ex",
    "outputId": "83b85a21-d15b-490c-c083-6fd5bd71b6be"
   },
   "outputs": [
    {
     "data": {
      "text/html": [
       "<div>\n",
       "<style scoped>\n",
       "    .dataframe tbody tr th:only-of-type {\n",
       "        vertical-align: middle;\n",
       "    }\n",
       "\n",
       "    .dataframe tbody tr th {\n",
       "        vertical-align: top;\n",
       "    }\n",
       "\n",
       "    .dataframe thead th {\n",
       "        text-align: right;\n",
       "    }\n",
       "</style>\n",
       "<table border=\"1\" class=\"dataframe\">\n",
       "  <thead>\n",
       "    <tr style=\"text-align: right;\">\n",
       "      <th></th>\n",
       "      <th></th>\n",
       "      <th>date</th>\n",
       "      <th>season</th>\n",
       "      <th>work_title</th>\n",
       "      <th>work_movement</th>\n",
       "      <th>work_composer_name</th>\n",
       "    </tr>\n",
       "    <tr>\n",
       "      <th>work_id</th>\n",
       "      <th>program_id</th>\n",
       "      <th></th>\n",
       "      <th></th>\n",
       "      <th></th>\n",
       "      <th></th>\n",
       "      <th></th>\n",
       "    </tr>\n",
       "  </thead>\n",
       "  <tbody>\n",
       "    <tr>\n",
       "      <th>10006</th>\n",
       "      <th>9948</th>\n",
       "      <td>2008-11-22T05:00:00Z</td>\n",
       "      <td>2008-09</td>\n",
       "      <td>ARCANES-SYMPHONIQUES, OP. 30</td>\n",
       "      <td>X. La-Roue-de-fortune</td>\n",
       "      <td>Dubugnon,  Richard</td>\n",
       "    </tr>\n",
       "    <tr>\n",
       "      <th rowspan=\"3\" valign=\"top\">10007</th>\n",
       "      <th>10144</th>\n",
       "      <td>2008-10-20T04:00:00Z</td>\n",
       "      <td>2008-09</td>\n",
       "      <td>TANGOS, SELECTED</td>\n",
       "      <td></td>\n",
       "      <td>Piazzolla,  Astor</td>\n",
       "    </tr>\n",
       "    <tr>\n",
       "      <th>14298</th>\n",
       "      <td>2019-04-07T04:00:00Z</td>\n",
       "      <td>2018-19</td>\n",
       "      <td>TANGOS, SELECTED</td>\n",
       "      <td></td>\n",
       "      <td>Piazzolla,  Astor</td>\n",
       "    </tr>\n",
       "    <tr>\n",
       "      <th>14566</th>\n",
       "      <td>2019-12-04T05:00:00Z</td>\n",
       "      <td>2019-20</td>\n",
       "      <td>TANGOS, SELECTED</td>\n",
       "      <td></td>\n",
       "      <td>Piazzolla,  Astor</td>\n",
       "    </tr>\n",
       "    <tr>\n",
       "      <th>10008</th>\n",
       "      <th>10144</th>\n",
       "      <td>2008-10-20T04:00:00Z</td>\n",
       "      <td>2008-09</td>\n",
       "      <td>LULLABY AND DOINA</td>\n",
       "      <td></td>\n",
       "      <td>Golijov,  Osvaldo</td>\n",
       "    </tr>\n",
       "  </tbody>\n",
       "</table>\n",
       "</div>"
      ],
      "text/plain": [
       "                                    date   season  \\\n",
       "work_id program_id                                  \n",
       "10006   9948        2008-11-22T05:00:00Z  2008-09   \n",
       "10007   10144       2008-10-20T04:00:00Z  2008-09   \n",
       "        14298       2019-04-07T04:00:00Z  2018-19   \n",
       "        14566       2019-12-04T05:00:00Z  2019-20   \n",
       "10008   10144       2008-10-20T04:00:00Z  2008-09   \n",
       "\n",
       "                                      work_title          work_movement  \\\n",
       "work_id program_id                                                        \n",
       "10006   9948        ARCANES-SYMPHONIQUES, OP. 30  X. La-Roue-de-fortune   \n",
       "10007   10144                   TANGOS, SELECTED                          \n",
       "        14298                   TANGOS, SELECTED                          \n",
       "        14566                   TANGOS, SELECTED                          \n",
       "10008   10144                  LULLABY AND DOINA                          \n",
       "\n",
       "                    work_composer_name  \n",
       "work_id program_id                      \n",
       "10006   9948        Dubugnon,  Richard  \n",
       "10007   10144        Piazzolla,  Astor  \n",
       "        14298        Piazzolla,  Astor  \n",
       "        14566        Piazzolla,  Astor  \n",
       "10008   10144        Golijov,  Osvaldo  "
      ]
     },
     "execution_count": 15,
     "metadata": {},
     "output_type": "execute_result"
    }
   ],
   "source": [
    "# Convert dictionary from JSON to a DataFrame\n",
    "perf_df = pd.DataFrame(perf_history_records)\n",
    "\n",
    "# Create new DataFrame by exploding works column, creating a new row for each\n",
    "# work on a program\n",
    "perf_df_works_exploded = (perf_df\n",
    "                          .explode('works')\n",
    "                          .reset_index()\n",
    "                          )\n",
    "\n",
    "# Split array of 'works' info into multiple columns and drop redundant fields\n",
    "works_and_programs = perf_df_works_exploded[['programID', 'works']]\n",
    "works_dict = works_and_programs.to_dict(orient='records')\n",
    "works_df = (pd.json_normalize(works_dict, sep='_')\n",
    "            .drop(['programID', 'works','works_soloists', 'works_conductorName'], axis=1)\n",
    "            .fillna('')\n",
    "            )\n",
    "\n",
    "# Aggregate all 'movement' information into 'works_movement' column\n",
    "works_df['works_movement__'] = works_df[['works_movement__', 'works_movement_em']].agg(' '.join, axis=1).str.strip()\n",
    "works_df['works_movement'] = works_df[['works_movement', 'works_movement__']].agg(' '.join, axis=1).str.strip()\n",
    "\n",
    "# Aggregate all 'workTitle' information into 'works_workTitle' column\n",
    "works_df['works_workTitle__'] = works_df[['works_workTitle__', 'works_workTitle_em']].agg(' '.join, axis=1).str.strip()\n",
    "works_df['works_workTitle'] = works_df[['works_workTitle', 'works_workTitle__']].agg(' '.join, axis=1).str.strip()\n",
    "\n",
    "# Change column names to singular/lowercase\n",
    "works_df_cleaned = (works_df\n",
    "                    .rename(columns={\n",
    "                        'works_ID' : \"work_id\",\n",
    "                        \"works_composerName\" : \"work_composer_name\",\n",
    "                        \"works_workTitle\" : \"work_title\",\n",
    "                        \"works_movement\" : \"work_movement\"})\n",
    "                    )\n",
    "\n",
    "# Concatonate the exploded/cleaned 'performance' and 'works' DataFrames,\n",
    "# renaming 'programID' to match the new naming convention\n",
    "work_history_df = (pd\n",
    "                   .concat([perf_df_works_exploded, works_df_cleaned], axis=1)\n",
    "                   .rename(columns={'programID' : 'program_id'})\n",
    "                   )\n",
    "\n",
    "# Create a column ('date') that specifies the first date the work was\n",
    "# performed on a concert for the associated program\n",
    "work_history_df['date'] = work_history_df['concerts'].apply(firstConcertDate)\n",
    "\n",
    "# Remove movement information from work_id\n",
    "work_history_df['work_id'] = work_history_df['work_id'].apply(lambda x: x.split('*')[0])\n",
    "\n",
    "# Remove rows with no 'work_id'; remove intermission rows ('work_id' = '0*');\n",
    "# set index to be a combination of 'work_id' and 'program_id'; reorder and\n",
    "# select relevant columns.\n",
    "work_history_df_cleaned = (\n",
    "    work_history_df[(work_history_df['work_id'] != '') & (work_history_df['work_id'] != '0') & (work_history_df['work_id'] != '')]\n",
    "    .set_index(['work_id', 'program_id'])\n",
    "    .sort_values(['work_id', 'date'], ascending=[True, True])\n",
    "    .loc[:,['date', 'season', 'work_title','work_movement','work_composer_name']]\n",
    "    )\n",
    "\n",
    "work_history_df_cleaned.head()"
   ]
  },
  {
   "cell_type": "code",
   "execution_count": 16,
   "metadata": {
    "colab": {
     "base_uri": "https://localhost:8080/",
     "height": 490
    },
    "id": "dQHx3HfwGLNw",
    "outputId": "ca375d10-2dc4-4047-8ebe-8689f48cebb1"
   },
   "outputs": [
    {
     "data": {
      "text/plain": [
       "<Axes: xlabel='season'>"
      ]
     },
     "execution_count": 16,
     "metadata": {},
     "output_type": "execute_result"
    },
    {
     "data": {
      "image/png": "[encoded data removed]",
      "text/plain": [
       "<Figure size 640x480 with 1 Axes>"
      ]
     },
     "metadata": {},
     "output_type": "display_data"
    }
   ],
   "source": [
    "first_performance_df = (work_history_df_cleaned\n",
    "                        .groupby('work_id')\n",
    "                        .first()\n",
    "                        .sort_values(by='date'))\n",
    "\n",
    "first_per_season = first_performance_df.season.value_counts()\n",
    "\n",
    "first_per_season.sort_index(inplace=True)\n",
    "\n",
    "first_per_season.plot(x=\"season\", y='count', kind=\"line\")\n"
   ]
  },
  {
   "cell_type": "code",
   "execution_count": null,
   "metadata": {},
   "outputs": [],
   "source": []
  }
 ],
 "metadata": {
  "colab": {
   "provenance": []
  },
  "kernelspec": {
   "display_name": "Python 3 (ipykernel)",
   "language": "python",
   "name": "python3"
  },
  "language_info": {
   "codemirror_mode": {
    "name": "ipython",
    "version": 3
   },
   "file_extension": ".py",
   "mimetype": "text/x-python",
   "name": "python",
   "nbconvert_exporter": "python",
   "pygments_lexer": "ipython3",
   "version": "3.12.4"
  }
 },
 "nbformat": 4,
 "nbformat_minor": 4
}
