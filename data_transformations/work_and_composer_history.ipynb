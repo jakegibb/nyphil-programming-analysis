{
 "cells": [
  {
   "cell_type": "markdown",
   "metadata": {},
   "source": [
    "### Imports\n",
    "\n",
    "Import necessary libaries and bring in New York Philharmonic JSON data."
   ]
  },
  {
   "cell_type": "code",
   "execution_count": null,
   "metadata": {
    "id": "fCgqkjMszGUV"
   },
   "outputs": [],
   "source": [
    "import os\n",
    "import json\n",
    "import pandas as pd\n",
    "\n",
    "# Import New York Phil Performance History from JSON file to a dictionary\n",
    "perf_history = {}\n",
    "\n",
    "with open('../nyphilarchive_performance_history/Programs/json/complete.json', 'r') as json_file:\n",
    "    perf_history = json.load(json_file)\n",
    "\n",
    "perf_history_records = perf_history['programs']"
   ]
  },
  {
   "cell_type": "markdown",
   "metadata": {},
   "source": [
    "### Clean Data\n",
    "\n",
    "This code unnests the JSON performance history, organizing the dataset around \"works\" instead of \"programs.\"\n",
    "\n",
    "In the final DataFrame, each row represents the performance of a single work on a particular NY Phil program. The date associated with the performance is the first date a program was performed."
   ]
  },
  {
   "cell_type": "code",
   "execution_count": 8,
   "metadata": {
    "colab": {
     "base_uri": "https://localhost:8080/",
     "height": 1000
    },
    "id": "p9FP9Fjq29Ex",
    "outputId": "83b85a21-d15b-490c-c083-6fd5bd71b6be"
   },
   "outputs": [],
   "source": [
    "# Function to return the earliest date from an array of concert information\n",
    "def firstConcertDate(concert_array):\n",
    "    concert_dates = []\n",
    "\n",
    "    for concert in concert_array:\n",
    "        concert_dates.append(concert['Date'])\n",
    "\n",
    "    concert_dates.sort()\n",
    "    earliest_date = concert_dates[0]\n",
    "\n",
    "    return earliest_date\n",
    "\n",
    "# Convert dictionary from JSON to a DataFrame\n",
    "perf_df = pd.DataFrame(perf_history_records)\n",
    "\n",
    "# Create new DataFrame by exploding works column, creating a new row for each work on a program\n",
    "perf_df_works_exploded = (perf_df\n",
    "                          .explode('works')\n",
    "                          .reset_index()\n",
    "                          )\n",
    "\n",
    "# Split array of 'works' info into multiple columns and drop redundant fields\n",
    "works_and_programs = perf_df_works_exploded[['programID', 'works']]\n",
    "works_dict = works_and_programs.to_dict(orient='records')\n",
    "works_df = (pd.json_normalize(works_dict, sep='_')\n",
    "            .drop(['programID', 'works','works_soloists', 'works_conductorName'], axis=1)\n",
    "            .fillna('')\n",
    "            )\n",
    "\n",
    "# Aggregate all 'movement' information into 'works_movement' column\n",
    "works_df['works_movement__'] = works_df[['works_movement__', 'works_movement_em']].agg(' '.join, axis=1).str.strip()\n",
    "works_df['works_movement'] = works_df[['works_movement', 'works_movement__']].agg(' '.join, axis=1).str.strip()\n",
    "\n",
    "# Aggregate all 'workTitle' information into 'works_workTitle' column\n",
    "works_df['works_workTitle__'] = works_df[['works_workTitle__', 'works_workTitle_em']].agg(' '.join, axis=1).str.strip()\n",
    "works_df['works_workTitle'] = works_df[['works_workTitle', 'works_workTitle__']].agg(' '.join, axis=1).str.strip()\n",
    "\n",
    "# Change column names to singular/lowercase\n",
    "works_df_cleaned = (works_df\n",
    "                    .rename(columns={\n",
    "                        'works_ID' : \"work_id\",\n",
    "                        \"works_composerName\" : \"work_composer_name\",\n",
    "                        \"works_workTitle\" : \"work_title\",\n",
    "                        \"works_movement\" : \"work_movement\"})\n",
    "                    )\n",
    "\n",
    "# Concatonate the exploded/cleaned 'performance' and 'works' DataFrames, renaming 'programID' to match the new naming convention\n",
    "work_history_df = (pd\n",
    "                   .concat([perf_df_works_exploded, works_df_cleaned], axis=1)\n",
    "                   .rename(columns={'programID' : 'program_id'})\n",
    "                   )\n",
    "\n",
    "# Create a column ('date') that specifies the first date the work was performed on a concert for the associated program\n",
    "work_history_df['date'] = work_history_df['concerts'].apply(firstConcertDate)\n",
    "\n",
    "# Remove movement information from work_id\n",
    "work_history_df['work_id'] = work_history_df['work_id'].apply(lambda x: x.split('*')[0])\n",
    "\n",
    "# Export to CSV\n",
    "work_history_df.to_csv('output/ny_phil_unnested_work_history.csv')"
   ]
  },
  {
   "cell_type": "markdown",
   "metadata": {},
   "source": [
    "### New Works Per Season\n",
    "\n",
    "This code filters and counts New York Philharmonic's performance history to determine how many \"new works\" were performed each season.\n",
    "\n",
    "A \"new work\" is defined as as piece that has is being performed by the ensemble for the first time in its history.\n",
    "\n",
    "For comparison, the resulting table also includes the number of \"total composers\" performed on each season."
   ]
  },
  {
   "cell_type": "code",
   "execution_count": 9,
   "metadata": {
    "colab": {
     "base_uri": "https://localhost:8080/",
     "height": 490
    },
    "id": "dQHx3HfwGLNw",
    "outputId": "ca375d10-2dc4-4047-8ebe-8689f48cebb1"
   },
   "outputs": [],
   "source": [
    "# Remove rows with no 'work_id'; remove intermission rows ('work_id' = '0'); set index to be a combination of 'work_id' and 'program_id'; reorder and select relevant columns.\n",
    "work_history_df_cleaned = (\n",
    "    work_history_df[(work_history_df['work_id'] != '') & (work_history_df['work_id'] != '0') & (work_history_df['work_id'] != '')]\n",
    "    .set_index(['work_id', 'program_id'])\n",
    "    .sort_values(['work_id', 'date'], ascending=[True, True])\n",
    "    .loc[:,['date', 'season', 'work_title','work_movement','work_composer_name']]\n",
    "    )\n",
    "\n",
    "# Filter dataframe for only the first performance of a work\n",
    "new_work_df = (work_history_df_cleaned\n",
    "                .groupby('work_id')\n",
    "                .first()\n",
    "                .sort_values(by='date'))\n",
    "\n",
    "# Count the number of new works performed in an orchestral season\n",
    "new_works_per_season = new_work_df.season.value_counts()\n",
    "new_works_per_season.sort_index(inplace=True)\n",
    "\n",
    "#Count of total number of works performed per season\n",
    "all_works = work_history_df[(work_history_df['work_id'] != '') \n",
    "                            & (work_history_df['work_id'] != '0')]\n",
    "total_works_per_season = (all_works[['season', 'work_id']]\n",
    "                        .groupby('season')\n",
    "                        .nunique()\n",
    "                        .rename(columns={'work_id' : 'total_works'}))\n",
    "\n",
    "#Merge \"new work\" and \"total work\" counts into one dataframe\n",
    "works_per_season_df = total_works_per_season.merge(new_works_per_season.rename('new_works'), left_index=True, right_index=True)\n",
    "\n",
    "# Calculate number of \"repeat compsers\" per season\n",
    "works_per_season_df['repeat_works'] = (works_per_season_df['total_works']\n",
    "                                               - works_per_season_df['new_works'])\n",
    "\n",
    "# Calculate percentage of season with new/repeat composers\n",
    "works_per_season_df['new_works_p'] = (works_per_season_df['new_works'] \n",
    "                                              / works_per_season_df['total_works'])\n",
    "works_per_season_df['repeat_works_p'] = (works_per_season_df['repeat_works']\n",
    "                                              / works_per_season_df['total_works'])\n",
    "\n",
    "# Add season start year for filtering\n",
    "works_per_season_df['season_year'] = works_per_season_df.index.str[:4].astype(int)\n",
    "\n",
    "# Export to CSV\n",
    "works_per_season_df.to_csv('output/ny_phil_new_works_per_season.csv')"
   ]
  },
  {
   "cell_type": "markdown",
   "metadata": {},
   "source": [
    "### New Composers Per Season\n",
    "\n",
    "This code filters and counts New York Philharmonic's performance history to determine how many \"new composers\" were performed  each season.\n",
    "\n",
    "A \"new composer\" is counted when the Philharmonic performs a work by a composer whose music has never been performed by the orchestra in its history.\n",
    "\n",
    "For comparison, the resulting table also includes the number of \"total composers\" performed on each season."
   ]
  },
  {
   "cell_type": "code",
   "execution_count": 10,
   "metadata": {},
   "outputs": [],
   "source": [
    "# Remove rows with no composer history; change index to be a combination of composer name, work id, and program id; reorder and select relevant columns\n",
    "composer_history_df_cleaned = (work_history_df[(work_history_df['work_composer_name'] != '')]\n",
    "                            .set_index(['work_composer_name','work_id', 'program_id'])\n",
    "                            .sort_values(['work_composer_name', 'date'])\n",
    "                            .loc[:,['date','season','work_title','work_movement']]\n",
    "    )\n",
    "\n",
    "# Filter data frame for only the first time a composer is performed by the orchestra\n",
    "new_composer_df = (composer_history_df_cleaned\n",
    "                        .groupby('work_composer_name')\n",
    "                        .first()\n",
    "                        .sort_values(by='date'))\n",
    "\n",
    "# Count the number of new composers performed in each season\n",
    "new_composers_per_season = new_composer_df.season.value_counts()\n",
    "new_composers_per_season.sort_index(inplace=True)\n",
    "\n",
    "#Count of total number of composers performed per season\n",
    "all_composers = work_history_df[(work_history_df['work_composer_name'] != '')]\n",
    "total_composers_per_season = (all_composers[['season', 'work_composer_name']]\n",
    "                        .groupby('season')\n",
    "                        .nunique()\n",
    "                        .rename(columns={'work_composer_name' : 'total_composers'}))\n",
    "\n",
    "#Merge \"new composer\" and \"total composer\" counts into dataframe\n",
    "composers_per_season_df = total_composers_per_season.merge(new_composers_per_season.rename('new_composers'), left_index=True, right_index=True)\n",
    "\n",
    "# Calculate number of \"repeat compsers\" per season\n",
    "composers_per_season_df['repeat_composers'] = (composers_per_season_df['total_composers']\n",
    "                                               - composers_per_season_df['new_composers'])\n",
    "\n",
    "# Calculate percentage of season with new/repeat composers\n",
    "composers_per_season_df['new_composers_p'] = (composers_per_season_df['new_composers'] \n",
    "                                              / composers_per_season_df['total_composers'])\n",
    "composers_per_season_df['repeat_composers_p'] = (composers_per_season_df['repeat_composers']\n",
    "                                              / composers_per_season_df['total_composers'])\n",
    "\n",
    "# Add season start year for filtering\n",
    "composers_per_season_df['season_year'] = composers_per_season_df.index.str[:4].astype(int)\n",
    "\n",
    "# Export to CSV\n",
    "composers_per_season_df.to_csv('output/ny_phil_new_composers_per_season.csv')\n"
   ]
  }
 ],
 "metadata": {
  "colab": {
   "provenance": []
  },
  "kernelspec": {
   "display_name": "base",
   "language": "python",
   "name": "python3"
  },
  "language_info": {
   "codemirror_mode": {
    "name": "ipython",
    "version": 3
   },
   "file_extension": ".py",
   "mimetype": "text/x-python",
   "name": "python",
   "nbconvert_exporter": "python",
   "pygments_lexer": "ipython3",
   "version": "3.12.4"
  }
 },
 "nbformat": 4,
 "nbformat_minor": 4
}
