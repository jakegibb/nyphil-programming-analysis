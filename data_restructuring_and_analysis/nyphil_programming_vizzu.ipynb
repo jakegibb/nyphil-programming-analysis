{
 "cells": [
  {
   "cell_type": "code",
   "execution_count": null,
   "metadata": {},
   "outputs": [],
   "source": [
    "! pip install ipyvizzu"
   ]
  },
  {
   "cell_type": "code",
   "execution_count": null,
   "metadata": {},
   "outputs": [],
   "source": [
    "import pandas as pd\n",
    "from ipyvizzu import Chart, Data, Config, Style"
   ]
  },
  {
   "cell_type": "code",
   "execution_count": null,
   "metadata": {},
   "outputs": [],
   "source": [
    "nyphil_df = pd.read_csv(\n",
    "    'nyphil_expansive_programming_data_by_season.csv'\n",
    "    )"
   ]
  },
  {
   "cell_type": "code",
   "execution_count": null,
   "metadata": {},
   "outputs": [],
   "source": [
    "# Create a dataframe with only new work information\n",
    "new_works_df = nyphil_df[['season_year', 'decade', 'new_works', 'new_works_p']].assign(type =\"New Works\")\n",
    "\n",
    "new_works_renamed = new_works_df.rename(columns={'new_works': 'total', 'new_works_p': 'percentage'})"
   ]
  },
  {
   "cell_type": "code",
   "execution_count": null,
   "metadata": {},
   "outputs": [],
   "source": [
    "# Create a dataframe with only new composer information\n",
    "new_composers_df = nyphil_df[['season_year', 'decade', 'new_composers', 'new_composers_p']].assign(type =\"New Composers\")\n",
    "\n",
    "new_composers_renamed = new_composers_df.rename(columns={'new_composers': 'total', 'new_composers_p': 'percentage'})\n",
    "\n",
    "new_composers_renamed['total'] = new_composers_renamed['total'].astype(int)"
   ]
  },
  {
   "cell_type": "code",
   "execution_count": null,
   "metadata": {},
   "outputs": [],
   "source": [
    "# Merge composer and work dataframes\n",
    "nyphil_vizzu_df = pd.concat([new_composers_renamed, new_works_renamed]).sort_values('season_year')\n",
    "\n",
    "# Recast category columns as strings so ipyvizzu recognizes them as dimensions\n",
    "nyphil_vizzu_df['season_year'] = nyphil_vizzu_df['season_year'].astype(str)\n",
    "nyphil_vizzu_df['decade'] = nyphil_vizzu_df['decade'].astype(str)\n",
    "\n",
    "# Convert percentage to number out of 100\n",
    "nyphil_vizzu_df['percentage'] = nyphil_vizzu_df['percentage']*100\n",
    "\n",
    "nyphil_vizzu_df.head(15)"
   ]
  },
  {
   "cell_type": "code",
   "execution_count": null,
   "metadata": {},
   "outputs": [],
   "source": [
    "data = Data()\n",
    "data.add_df(nyphil_vizzu_df)\n",
    "\n",
    "style = Style(\n",
    "    {\n",
    "        \"plot\": {\n",
    "            \"yAxis\": {\n",
    "                \"label\": {\n",
    "                    \"fontSize\": \"1em\",\n",
    "                    \"paddingRight\": \"1.2em\",\n",
    "                },\n",
    "            },\n",
    "            \"xAxis\": {\n",
    "                \"label\": {\n",
    "                    \"angle\": \"2.75\",\n",
    "                    \"fontSize\": \"1.1em\",\n",
    "                    \"paddingRight\": \"0em\",\n",
    "                    \"paddingTop\": \"1em\",\n",
    "                },\n",
    "            \"title\": {\"fontSize\": \"1.166667em\"},\n",
    "            },\n",
    "            \"marker\": {\"borderWidth\": 1.5, \"colorPalette\": \"#4171CDFF #F4941BFF\"},\n",
    "        },\n",
    "        \"logo\": {\"filter\": \"color(#FFFFFFFF)\"},\n",
    "        \"legend\": {\"width\": 150},\n",
    "        \"title\": {\"fontSize\":\"1.8em\"}\n",
    "    }\n",
    ")"
   ]
  },
  {
   "cell_type": "code",
   "execution_count": 27,
   "metadata": {},
   "outputs": [
    {
     "data": {
      "application/javascript": "if (window.IpyVizzu?.version !== '0.17.0') {\n\tclass IpyVizzu {\n\t\tstatic version = '0.17.0'\n\t\tstatic analytics = undefined\n\t\tstatic inhibitScroll = false\n\n\t\tconstructor() {\n\t\t\tdocument.addEventListener(\n\t\t\t\t'wheel',\n\t\t\t\t(evt) => {\n\t\t\t\t\tIpyVizzu.inhibitScroll = true\n\t\t\t\t},\n\t\t\t\ttrue\n\t\t\t)\n\t\t\tdocument.addEventListener(\n\t\t\t\t'keydown',\n\t\t\t\t(evt) => {\n\t\t\t\t\tIpyVizzu.inhibitScroll = true\n\t\t\t\t},\n\t\t\t\ttrue\n\t\t\t)\n\t\t\tdocument.addEventListener(\n\t\t\t\t'touchstart',\n\t\t\t\t(evt) => {\n\t\t\t\t\tIpyVizzu.inhibitScroll = true\n\t\t\t\t},\n\t\t\t\ttrue\n\t\t\t)\n\n\t\t\tthis.elements = {}\n\t\t\tthis.charts = {}\n\t\t\tthis.controls = {}\n\n\t\t\tthis.storage = {}\n\t\t\tthis.displays = {}\n\n\t\t\tthis.events = {}\n\t\t\tthis.loaded = {}\n\t\t\tthis.libs = {}\n\t\t\tthis.plugins = {}\n\t\t}\n\n\t\tstatic clearInhibitScroll(element) {\n\t\t\tIpyVizzu.inhibitScroll = false\n\t\t}\n\n\t\tcreateChart(element, chartId, vizzulib, divWidth, divHeight) {\n\t\t\tthis.elements[chartId] = document.createElement('div')\n\t\t\tthis.elements[chartId].style.cssText = `width: ${divWidth}; height: ${divHeight};`\n\t\t\tthis.loaded[chartId] = import(vizzulib)\n\t\t\tthis.charts[chartId] = this.loaded[chartId].then((Vizzu) => {\n\t\t\t\tthis.libs[chartId] = Vizzu.default\n\t\t\t\tconst VizzuConstructor = Vizzu.default\n\t\t\t\treturn new VizzuConstructor(this.elements[chartId]).initializing\n\t\t\t})\n\t\t\tthis._moveHere(chartId, element)\n\t\t}\n\n\t\tplugin(element, chartId, plugin, options, name, enabled) {\n\t\t\tthis.charts[chartId] = this.charts[chartId].then((chart) => {\n\t\t\t\tif (!this.plugins[plugin]) {\n\t\t\t\t\tthis.plugins[plugin] = import(plugin).catch((error) => {\n\t\t\t\t\t\tconsole.error('Error importing plugin:', plugin, error)\n\t\t\t\t\t\treturn null\n\t\t\t\t\t})\n\t\t\t\t}\n\n\t\t\t\treturn this.plugins[plugin].then((pluginModule) => {\n\t\t\t\t\tif (pluginModule) {\n\t\t\t\t\t\tconst pluginInstance = new pluginModule[name](options)\n\t\t\t\t\t\tif (enabled) {\n\t\t\t\t\t\t\tchart.feature(pluginInstance, true)\n\t\t\t\t\t\t} else {\n\t\t\t\t\t\t\tchart.feature(pluginInstance.meta.name, false)\n\t\t\t\t\t\t}\n\t\t\t\t\t}\n\n\t\t\t\t\treturn chart\n\t\t\t\t})\n\t\t\t})\n\t\t}\n\n\t\tanimate(\n\t\t\telement,\n\t\t\tchartId,\n\t\t\tanimId,\n\t\t\tdisplayTarget,\n\t\t\tscrollEnabled,\n\t\t\tgetChartTarget,\n\t\t\tchartAnimOpts\n\t\t) {\n\t\t\tif (displayTarget === 'end') this._moveHere(chartId, element)\n\t\t\tthis.controls[chartId] = this.charts[chartId]\n\t\t\tthis.charts[chartId] = this.charts[chartId].then((chart) => {\n\t\t\t\tif (displayTarget === 'actual') this._moveHere(chartId, element)\n\t\t\t\tthis._scroll(chartId, scrollEnabled)\n\t\t\t\tlet chartTarget = getChartTarget(this.libs[chartId])\n\t\t\t\tif (typeof chartTarget === 'string') {\n\t\t\t\t\tchartTarget = this.storage[chartTarget]\n\t\t\t\t} else if (Array.isArray(chartTarget)) {\n\t\t\t\t\tfor (let i = 0; i < chartTarget.length; i++) {\n\t\t\t\t\t\tconst target = chartTarget[i].target\n\t\t\t\t\t\tif (typeof target === 'string') {\n\t\t\t\t\t\t\tchartTarget[i].target = this.storage[target]\n\t\t\t\t\t\t}\n\t\t\t\t\t}\n\t\t\t\t}\n\t\t\t\tchart = chart.animate(chartTarget, chartAnimOpts)\n\t\t\t\tthis.controls[animId] = chart\n\t\t\t\treturn chart\n\t\t\t})\n\t\t}\n\n\t\tstore(element, chartId, id) {\n\t\t\tthis.charts[chartId] = this.charts[chartId].then((chart) => {\n\t\t\t\tthis.storage[id] = chart.store()\n\t\t\t\treturn chart\n\t\t\t})\n\t\t}\n\n\t\tfeature(element, chartId, name, enabled) {\n\t\t\tthis.charts[chartId] = this.charts[chartId].then((chart) => {\n\t\t\t\tchart.feature(name, enabled)\n\t\t\t\treturn chart\n\t\t\t})\n\t\t}\n\n\t\tsetEvent(element, chartId, id, event, handler) {\n\t\t\tthis.charts[chartId] = this.charts[chartId].then((chart) => {\n\t\t\t\tthis.events[id] = handler\n\t\t\t\tchart.on(event, this.events[id])\n\t\t\t\treturn chart\n\t\t\t})\n\t\t}\n\n\t\tclearEvent(element, chartId, id, event) {\n\t\t\tthis.charts[chartId] = this.charts[chartId].then((chart) => {\n\t\t\t\tchart.off(event, this.events[id])\n\t\t\t\treturn chart\n\t\t\t})\n\t\t}\n\n\t\tlog(element, chartId, chartProperty) {\n\t\t\tthis.charts[chartId] = this.charts[chartId].then((chart) => {\n\t\t\t\tconsole.log(chart[chartProperty])\n\t\t\t\treturn chart\n\t\t\t})\n\t\t}\n\n\t\tcontrol(element, method, prevId, lastId, ...params) {\n\t\t\tthis.controls[prevId].then(() => {\n\t\t\t\tthis.controls[lastId].activated.then((control) => {\n\t\t\t\t\tif (method === 'seek') {\n\t\t\t\t\t\tconst value = params[0]\n\t\t\t\t\t\tcontrol[method](value)\n\t\t\t\t\t\treturn\n\t\t\t\t\t}\n\t\t\t\t\tif (method === 'store') {\n\t\t\t\t\t\tconst id = params[0]\n\t\t\t\t\t\tthis.storage[id] = control[method]()\n\t\t\t\t\t\treturn\n\t\t\t\t\t}\n\t\t\t\t\tcontrol[method]()\n\t\t\t\t})\n\t\t\t})\n\t\t}\n\n\t\t_moveHere(chartId, element) {\n\t\t\telement.append(this.elements[chartId])\n\t\t}\n\n\t\t_scroll(chartId, enabled) {\n\t\t\tif (!IpyVizzu.inhibitScroll && enabled) {\n\t\t\t\tthis.elements[chartId].scrollIntoView({\n\t\t\t\t\tbehavior: 'auto',\n\t\t\t\t\tblock: 'center'\n\t\t\t\t})\n\t\t\t}\n\t\t}\n\n\t\tstatic _hide(element) {\n\t\t\tdocument.getElementById(element.selector.substring(1)).parentNode.style.display = 'none'\n\t\t}\n\n\t\tstatic _display(prevElement, element) {\n\t\t\tif (prevElement.parentNode) {\n\t\t\t\tprevElement.parentNode.style.display = 'none'\n\t\t\t}\n\t\t\tdocument.getElementById(element.selector.substring(1)).parentNode.style.display = 'flex'\n\t\t\tdocument.getElementById(element.selector.substring(1)).parentNode.style.margin = 'auto'\n\t\t}\n\n\t\tstatic changeAnalyticsTo(analytics) {\n\t\t\tif (IpyVizzu.analytics !== analytics) {\n\t\t\t\tconsole.log('ipyvizzu gather usage stats:', analytics)\n\t\t\t\tIpyVizzu.analytics = analytics\n\t\t\t}\n\t\t\tif (analytics) {\n\t\t\t\tIpyVizzu._addHeadScript()\n\t\t\t} else {\n\t\t\t\tIpyVizzu._removeScript('ipyvizzu-analytics-head')\n\t\t\t}\n\t\t}\n\n\t\tstatic _addHeadScript() {\n\t\t\tconst scriptId = 'ipyvizzu-analytics-head'\n\t\t\tif (!IpyVizzu._isScriptAppended(scriptId)) {\n\t\t\t\tconst script = document.createElement('script')\n\t\t\t\tscript.defer = true\n\t\t\t\tscript.src = 'https://plausible.io/js/script.local.js'\n\t\t\t\tscript.dataset.domain = 'usage.ipyvizzu.com'\n\t\t\t\tscript.id = scriptId\n\t\t\t\tdocument.getElementsByTagName('head')[0].appendChild(script)\n\t\t\t}\n\t\t}\n\n\t\tstatic _isScriptAppended(id) {\n\t\t\treturn document.querySelector(`script[id=\"${id}\"]`) !== null\n\t\t}\n\n\t\tstatic _removeScript(id) {\n\t\t\tconst script = document.getElementById(id)\n\t\t\tif (script) script.remove()\n\t\t}\n\t}\n\n\twindow.IpyVizzu = IpyVizzu\n\tconsole.log(`ipyvizzu ${IpyVizzu.version}`)\n\twindow.ipyvizzu = new window.IpyVizzu()\n}\n\nif (window.IpyVizzu) window.IpyVizzu.changeAnalyticsTo(true);\nwindow.ipyvizzu.createChart(element, '4c279ae', 'https://cdn.jsdelivr.net/npm/vizzu@0.9/dist/vizzu.min.js', '850px', '650px');\nwindow.ipyvizzu.animate(element, '4c279ae', '8e651d0', 'manual', false, lib => { return {\"data\": {\"series\": [{\"name\": \"season_year\", \"values\": [\"1842\", \"1842\", \"1843\", \"1843\", \"1844\", \"1844\", \"1845\", \"1845\", \"1846\", \"1846\", \"1847\", \"1847\", \"1848\", \"1848\", \"1849\", \"1849\", \"1850\", \"1850\", \"1851\", \"1851\", \"1852\", \"1852\", \"1853\", \"1853\", \"1854\", \"1854\", \"1855\", \"1855\", \"1856\", \"1856\", \"1857\", \"1857\", \"1858\", \"1858\", \"1859\", \"1859\", \"1860\", \"1860\", \"1861\", \"1861\", \"1862\", \"1862\", \"1863\", \"1863\", \"1864\", \"1864\", \"1865\", \"1865\", \"1866\", \"1866\", \"1867\", \"1867\", \"1868\", \"1868\", \"1869\", \"1869\", \"1870\", \"1870\", \"1871\", \"1871\", \"1872\", \"1872\", \"1873\", \"1873\", \"1874\", \"1874\", \"1875\", \"1875\", \"1876\", \"1876\", \"1877\", \"1877\", \"1878\", \"1878\", \"1879\", \"1879\", \"1880\", \"1880\", \"1881\", \"1881\", \"1882\", \"1882\", \"1883\", \"1883\", \"1884\", \"1884\", \"1885\", \"1885\", \"1886\", \"1886\", \"1887\", \"1887\", \"1888\", \"1888\", \"1889\", \"1889\", \"1890\", \"1890\", \"1891\", \"1891\", \"1892\", \"1892\", \"1893\", \"1893\", \"1894\", \"1894\", \"1895\", \"1895\", \"1896\", \"1896\", \"1897\", \"1897\", \"1898\", \"1898\", \"1899\", \"1899\", \"1900\", \"1900\", \"1901\", \"1901\", \"1902\", \"1902\", \"1903\", \"1903\", \"1904\", \"1904\", \"1905\", \"1905\", \"1906\", \"1906\", \"1907\", \"1907\", \"1908\", \"1908\", \"1909\", \"1909\", \"1910\", \"1910\", \"1911\", \"1911\", \"1912\", \"1912\", \"1913\", \"1913\", \"1914\", \"1914\", \"1915\", \"1915\", \"1916\", \"1916\", \"1917\", \"1917\", \"1918\", \"1918\", \"1919\", \"1919\", \"1920\", \"1920\", \"1921\", \"1921\", \"1922\", \"1922\", \"1923\", \"1923\", \"1924\", \"1924\", \"1925\", \"1925\", \"1926\", \"1926\", \"1927\", \"1927\", \"1928\", \"1928\", \"1929\", \"1929\", \"1930\", \"1930\", \"1931\", \"1931\", \"1932\", \"1932\", \"1933\", \"1933\", \"1934\", \"1934\", \"1935\", \"1935\", \"1936\", \"1936\", \"1937\", \"1937\", \"1938\", \"1938\", \"1939\", \"1939\", \"1940\", \"1940\", \"1941\", \"1941\", \"1942\", \"1942\", \"1943\", \"1943\", \"1944\", \"1944\", \"1945\", \"1945\", \"1946\", \"1946\", \"1947\", \"1947\", \"1948\", \"1948\", \"1949\", \"1949\", \"1950\", \"1950\", \"1951\", \"1951\", \"1952\", \"1952\", \"1953\", \"1953\", \"1954\", \"1954\", \"1955\", \"1955\", \"1956\", \"1956\", \"1957\", \"1957\", \"1958\", \"1958\", \"1959\", \"1959\", \"1960\", \"1960\", \"1961\", \"1961\", \"1962\", \"1962\", \"1963\", \"1963\", \"1964\", \"1964\", \"1965\", \"1965\", \"1966\", \"1966\", \"1967\", \"1967\", \"1968\", \"1968\", \"1969\", \"1969\", \"1970\", \"1970\", \"1971\", \"1971\", \"1972\", \"1972\", \"1973\", \"1973\", \"1974\", \"1974\", \"1975\", \"1975\", \"1976\", \"1976\", \"1977\", \"1977\", \"1978\", \"1978\", \"1979\", \"1979\", \"1980\", \"1980\", \"1981\", \"1981\", \"1982\", \"1982\", \"1983\", \"1983\", \"1984\", \"1984\", \"1985\", \"1985\", \"1986\", \"1986\", \"1987\", \"1987\", \"1988\", \"1988\", \"1989\", \"1989\", \"1990\", \"1990\", \"1991\", \"1991\", \"1992\", \"1992\", \"1993\", \"1993\", \"1994\", \"1994\", \"1995\", \"1995\", \"1996\", \"1996\", \"1997\", \"1997\", \"1998\", \"1998\", \"1999\", \"1999\", \"2000\", \"2000\", \"2001\", \"2001\", \"2002\", \"2002\", \"2003\", \"2003\", \"2004\", \"2004\", \"2005\", \"2005\", \"2006\", \"2006\", \"2007\", \"2007\", \"2008\", \"2008\", \"2009\", \"2009\", \"2010\", \"2010\", \"2011\", \"2011\", \"2012\", \"2012\", \"2013\", \"2013\", \"2014\", \"2014\", \"2015\", \"2015\", \"2016\", \"2016\", \"2017\", \"2017\", \"2018\", \"2018\", \"2019\", \"2019\", \"2020\", \"2020\", \"2021\", \"2021\", \"2022\", \"2022\", \"2023\", \"2023\"], \"type\": \"dimension\"}, {\"name\": \"decade\", \"values\": [\"1840\", \"1840\", \"1840\", \"1840\", \"1840\", \"1840\", \"1840\", \"1840\", \"1840\", \"1840\", \"1840\", \"1840\", \"1840\", \"1840\", \"1840\", \"1840\", \"1850\", \"1850\", \"1850\", \"1850\", \"1850\", \"1850\", \"1850\", \"1850\", \"1850\", \"1850\", \"1850\", \"1850\", \"1850\", \"1850\", \"1850\", \"1850\", \"1850\", \"1850\", \"1850\", \"1850\", \"1860\", \"1860\", \"1860\", \"1860\", \"1860\", \"1860\", \"1860\", \"1860\", \"1860\", \"1860\", \"1860\", \"1860\", \"1860\", \"1860\", \"1860\", \"1860\", \"1860\", \"1860\", \"1860\", \"1860\", \"1870\", \"1870\", \"1870\", \"1870\", \"1870\", \"1870\", \"1870\", \"1870\", \"1870\", \"1870\", \"1870\", \"1870\", \"1870\", \"1870\", \"1870\", \"1870\", \"1870\", \"1870\", \"1870\", \"1870\", \"1880\", \"1880\", \"1880\", \"1880\", \"1880\", \"1880\", \"1880\", \"1880\", \"1880\", \"1880\", \"1880\", \"1880\", \"1880\", \"1880\", \"1880\", \"1880\", \"1880\", \"1880\", \"1880\", \"1880\", \"1890\", \"1890\", \"1890\", \"1890\", \"1890\", \"1890\", \"1890\", \"1890\", \"1890\", \"1890\", \"1890\", \"1890\", \"1890\", \"1890\", \"1890\", \"1890\", \"1890\", \"1890\", \"1890\", \"1890\", \"1900\", \"1900\", \"1900\", \"1900\", \"1900\", \"1900\", \"1900\", \"1900\", \"1900\", \"1900\", \"1900\", \"1900\", \"1900\", \"1900\", \"1900\", \"1900\", \"1900\", \"1900\", \"1900\", \"1900\", \"1910\", \"1910\", \"1910\", \"1910\", \"1910\", \"1910\", \"1910\", \"1910\", \"1910\", \"1910\", \"1910\", \"1910\", \"1910\", \"1910\", \"1910\", \"1910\", \"1910\", \"1910\", \"1910\", \"1910\", \"1920\", \"1920\", \"1920\", \"1920\", \"1920\", \"1920\", \"1920\", \"1920\", \"1920\", \"1920\", \"1920\", \"1920\", \"1920\", \"1920\", \"1920\", \"1920\", \"1920\", \"1920\", \"1920\", \"1920\", \"1930\", \"1930\", \"1930\", \"1930\", \"1930\", \"1930\", \"1930\", \"1930\", \"1930\", \"1930\", \"1930\", \"1930\", \"1930\", \"1930\", \"1930\", \"1930\", \"1930\", \"1930\", \"1930\", \"1930\", \"1940\", \"1940\", \"1940\", \"1940\", \"1940\", \"1940\", \"1940\", \"1940\", \"1940\", \"1940\", \"1940\", \"1940\", \"1940\", \"1940\", \"1940\", \"1940\", \"1940\", \"1940\", \"1940\", \"1940\", \"1950\", \"1950\", \"1950\", \"1950\", \"1950\", \"1950\", \"1950\", \"1950\", \"1950\", \"1950\", \"1950\", \"1950\", \"1950\", \"1950\", \"1950\", \"1950\", \"1950\", \"1950\", \"1950\", \"1950\", \"1960\", \"1960\", \"1960\", \"1960\", \"1960\", \"1960\", \"1960\", \"1960\", \"1960\", \"1960\", \"1960\", \"1960\", \"1960\", \"1960\", \"1960\", \"1960\", \"1960\", \"1960\", \"1960\", \"1960\", \"1970\", \"1970\", \"1970\", \"1970\", \"1970\", \"1970\", \"1970\", \"1970\", \"1970\", \"1970\", \"1970\", \"1970\", \"1970\", \"1970\", \"1970\", \"1970\", \"1970\", \"1970\", \"1970\", \"1970\", \"1980\", \"1980\", \"1980\", \"1980\", \"1980\", \"1980\", \"1980\", \"1980\", \"1980\", \"1980\", \"1980\", \"1980\", \"1980\", \"1980\", \"1980\", \"1980\", \"1980\", \"1980\", \"1980\", \"1980\", \"1990\", \"1990\", \"1990\", \"1990\", \"1990\", \"1990\", \"1990\", \"1990\", \"1990\", \"1990\", \"1990\", \"1990\", \"1990\", \"1990\", \"1990\", \"1990\", \"1990\", \"1990\", \"1990\", \"1990\", \"2000\", \"2000\", \"2000\", \"2000\", \"2000\", \"2000\", \"2000\", \"2000\", \"2000\", \"2000\", \"2000\", \"2000\", \"2000\", \"2000\", \"2000\", \"2000\", \"2000\", \"2000\", \"2000\", \"2000\", \"2010\", \"2010\", \"2010\", \"2010\", \"2010\", \"2010\", \"2010\", \"2010\", \"2010\", \"2010\", \"2010\", \"2010\", \"2010\", \"2010\", \"2010\", \"2010\", \"2010\", \"2010\", \"2010\", \"2010\", \"2020\", \"2020\", \"2020\", \"2020\", \"2020\", \"2020\", \"2020\", \"2020\"], \"type\": \"dimension\"}, {\"name\": \"total\", \"values\": [16.0, 29.0, 17.0, 6.0, 5.0, 20.0, 11.0, 23.0, 4.0, 14.0, 13.0, 3.0, 13.0, 6.0, 7.0, 2.0, 12.0, 9.0, 13.0, 2.0, 18.0, 8.0, 18.0, 5.0, 4.0, 20.0, 3.0, 15.0, 7.0, 16.0, 12.0, 3.0, 5.0, 21.0, 13.0, 5.0, 34.0, 13.0, 17.0, 4.0, 3.0, 17.0, 15.0, 6.0, 9.0, 4.0, 11.0, 3.0, 10.0, 2.0, 5.0, 2.0, 3.0, 12.0, 10.0, 2.0, 11.0, 3.0, 17.0, 3.0, 13.0, 3.0, 1.0, 13.0, 3.0, 13.0, 4.0, 11.0, 22.0, 5.0, 5.0, 0.0, 50.0, 12.0, 34.0, 9.0, 32.0, 6.0, 18.0, 2.0, 18.0, 4.0, 16.0, 6.0, 5.0, 26.0, 20.0, 4.0, 5.0, 16.0, 2.0, 18.0, 1.0, 28.0, 2.0, 21.0, 28.0, 9.0, 3.0, 25.0, 29.0, 7.0, 23.0, 4.0, 5.0, 18.0, 23.0, 6.0, 16.0, 68.0, 20.0, 6.0, 5.0, 29.0, 7.0, 36.0, 44.0, 197.0, 3.0, 13.0, 4.0, 29.0, 8.0, 47.0, 13.0, 59.0, 59.0, 11.0, 5.0, 51.0, 10.0, 45.0, 51.0, 9.0, 80.0, 19.0, 61.0, 20.0, 74.0, 17.0, 28.0, 88.0, 28.0, 128.0, 26.0, 102.0, 40.0, 133.0, 13.0, 97.0, 85.0, 23.0, 23.0, 78.0, 19.0, 115.0, 15.0, 69.0, 33.0, 131.0, 25.0, 100.0, 96.0, 20.0, 130.0, 23.0, 97.0, 20.0, 22.0, 103.0, 33.0, 125.0, 74.0, 14.0, 18.0, 83.0, 101.0, 15.0, 10.0, 106.0, 26.0, 104.0, 67.0, 9.0, 12.0, 78.0, 30.0, 96.0, 142.0, 24.0, 133.0, 36.0, 33.0, 136.0, 19.0, 108.0, 28.0, 135.0, 25.0, 119.0, 39.0, 145.0, 103.0, 24.0, 161.0, 37.0, 79.0, 323.0, 32.0, 149.0, 83.0, 9.0, 24.0, 105.0, 20.0, 98.0, 5.0, 50.0, 80.0, 14.0, 16.0, 92.0, 16.0, 80.0, 81.0, 24.0, 112.0, 29.0, 109.0, 28.0, 121.0, 21.0, 88.0, 21.0, 85.0, 17.0, 67.0, 12.0, 66.0, 9.0, 8.0, 65.0, 12.0, 53.0, 5.0, 68.0, 74.0, 6.0, 58.0, 15.0, 5.0, 46.0, 47.0, 8.0, 6.0, 44.0, 5.0, 37.0, 18.0, 69.0, 8.0, 68.0, 47.0, 6.0, 74.0, 9.0, 11.0, 41.0, 82.0, 31.0, 28.0, 75.0, 3.0, 46.0, 6.0, 24.0, 29.0, 7.0, 32.0, 5.0, 52.0, 18.0, 28.0, 78.0, 7.0, 46.0, 94.0, 21.0, 13.0, 63.0, 7.0, 50.0, 7.0, 43.0, 50.0, 10.0, 7.0, 64.0, 44.0, 3.0, 47.0, 9.0, 75.0, 16.0, 13.0, 58.0, 23.0, 103.0, 21.0, 102.0, 127.0, 26.0, 11.0, 84.0, 126.0, 32.0, 7.0, 53.0, 57.0, 14.0, 19.0, 94.0, 102.0, 13.0, 91.0, 20.0, 101.0, 38.0, 27.0, 134.0, 152.0, 41.0, 106.0, 29.0, 145.0, 42.0, 50.0, 152.0, 154.0, 46.0, 163.0, 56.0, 263.0, 90.0, 168.0, 49.0, 320.0, 138.0, 134.0, 39.0, 132.0, 30.0, 37.0, 181.0, 106.0, 33.0, 93.0, 27.0, 146.0, 49.0, 190.0, 67.0, 46.0, 157.0], \"type\": \"measure\"}, {\"name\": \"percentage\", \"values\": [100.0, 100.0, 80.95238095238095, 40.0, 33.33333333333333, 76.92307692307693, 57.89473684210527, 71.875, 23.52941176470588, 58.333333333333336, 48.14814814814814, 27.27272727272727, 61.904761904761905, 33.33333333333333, 41.17647058823529, 20.0, 54.54545454545454, 50.0, 48.14814814814814, 12.5, 62.06896551724138, 36.36363636363636, 64.28571428571429, 23.8095238095238, 18.18181818181818, 60.60606060606061, 16.66666666666666, 55.55555555555556, 31.818181818181817, 53.333333333333336, 44.44444444444444, 15.78947368421052, 18.51851851851851, 53.84615384615385, 39.39393939393939, 22.72727272727272, 65.38461538461539, 36.11111111111111, 50.0, 18.18181818181818, 14.28571428571428, 45.94594594594595, 41.66666666666667, 23.07692307692307, 31.03448275862069, 23.52941176470588, 37.93103448275862, 17.64705882352941, 28.57142857142857, 13.33333333333333, 20.0, 15.38461538461538, 16.66666666666666, 38.70967741935484, 30.303030303030297, 10.52631578947368, 30.555555555555557, 14.28571428571428, 48.57142857142857, 13.63636363636363, 44.827586206896555, 15.78947368421052, 4.347826086956521, 40.625, 15.0, 35.13513513513513, 20.0, 35.483870967741936, 55.00000000000001, 20.83333333333333, 20.0, 0.0, 54.94505494505495, 30.0, 53.96825396825397, 30.0, 40.50632911392405, 18.18181818181818, 36.0, 9.09090909090909, 34.615384615384606, 15.38461538461538, 31.372549019607842, 22.22222222222222, 17.24137931034483, 43.33333333333333, 35.71428571428571, 13.33333333333333, 19.23076923076923, 32.65306122448979, 6.89655172413793, 29.03225806451613, 3.44827586206896, 37.33333333333333, 6.25, 33.33333333333333, 38.88888888888889, 25.71428571428571, 9.375, 30.48780487804878, 40.845070422535215, 21.21212121212121, 36.5079365079365, 12.12121212121212, 16.66666666666666, 29.50819672131147, 34.84848484848485, 18.18181818181818, 29.629629629629626, 51.127819548872175, 31.74603174603174, 18.18181818181818, 13.88888888888889, 38.66666666666666, 17.07317073170731, 42.85714285714285, 37.93103448275862, 56.77233429394812, 11.11111111111111, 28.888888888888882, 10.81081081081081, 37.17948717948718, 14.28571428571428, 32.41379310344827, 19.402985074626862, 33.71428571428571, 36.19631901840491, 17.1875, 8.92857142857142, 36.42857142857142, 21.7391304347826, 35.71428571428571, 32.90322580645161, 18.75, 42.5531914893617, 27.142857142857142, 33.70165745856354, 27.027027027027028, 37.37373737373737, 21.79487179487179, 30.76923076923077, 37.76824034334764, 24.34782608695652, 40.12539184952978, 24.07407407407407, 35.05154639175257, 28.77697841726618, 39.00293255131964, 12.03703703703703, 32.77027027027027, 32.0754716981132, 20.535714285714278, 20.535714285714278, 27.659574468085108, 15.83333333333333, 35.82554517133956, 13.04347826086956, 23.07692307692307, 22.297297297297288, 33.850129198966414, 18.65671641791045, 29.67359050445103, 26.740947075208908, 15.38461538461538, 32.82828282828283, 15.131578947368421, 26.86980609418282, 15.625, 14.56953642384106, 26.89295039164491, 22.297297297297288, 31.806615776081422, 24.503311258278142, 11.29032258064516, 13.43283582089552, 26.01880877742947, 30.886850152905197, 12.295081967213111, 8.1967213114754, 28.72628726287263, 19.54887218045112, 27.659574468085108, 23.508771929824558, 8.49056603773584, 11.11111111111111, 28.57142857142857, 21.58273381294964, 28.152492668621697, 36.224489795918366, 15.58441558441558, 31.66666666666666, 21.55688622754491, 18.85714285714285, 31.264367816091948, 12.17948717948717, 27.55102040816326, 16.0919540229885, 30.0, 16.66666666666666, 30.909090909090907, 22.54335260115607, 35.89108910891089, 27.03412073490813, 15.58441558441558, 35.46255506607929, 21.02272727272727, 29.588014981273407, 45.3015427769986, 17.02127659574468, 34.09610983981693, 23.31460674157303, 6.8181818181818095, 14.723926380368098, 25.73529411764705, 11.42857142857142, 24.01960784313725, 3.7313432835820803, 14.4927536231884, 23.12138728323699, 10.07194244604316, 10.25641025641025, 23.23232323232323, 10.52631578947368, 21.3903743315508, 23.89380530973451, 15.48387096774193, 27.72277227722772, 19.86301369863013, 27.66497461928934, 17.17791411042944, 31.510416666666668, 15.107913669064748, 27.58620689655172, 15.107913669064748, 24.079320113314438, 12.23021582733813, 20.61538461538461, 8.95522388059701, 22.75862068965517, 8.25688073394495, 6.66666666666666, 19.578313253012038, 10.61946902654867, 18.79432624113475, 4.67289719626168, 24.72727272727272, 27.205882352941167, 5.71428571428571, 25.663716814159287, 13.88888888888889, 4.90196078431372, 20.08733624454148, 22.38095238095238, 7.92079207920792, 6.66666666666666, 20.465116279069758, 5.88235294117647, 17.61904761904762, 18.0, 27.27272727272727, 8.888888888888879, 27.30923694779116, 22.16981132075471, 7.05882352941176, 26.714801444043317, 8.65384615384615, 11.11111111111111, 20.39800995024875, 29.181494661921707, 24.03100775193798, 21.21212121212121, 26.31578947368421, 3.7037037037037, 18.930041152263367, 7.05882352941176, 12.18274111675127, 16.47727272727272, 9.45945945945946, 15.31100478468899, 6.02409638554216, 24.29906542056074, 17.14285714285714, 25.92592592592592, 36.11111111111111, 8.139534883720929, 20.81447963800905, 38.84297520661157, 18.91891891891892, 13.4020618556701, 28.125, 7.14285714285714, 24.03846153846154, 8.974358974358971, 21.07843137254902, 26.7379679144385, 12.04819277108433, 8.139534883720929, 24.15094339622641, 24.858757062146893, 4.41176470588235, 24.1025641025641, 9.18367346938775, 37.68844221105528, 14.814814814814811, 14.606741573033698, 28.431372549019603, 20.35398230088495, 40.711462450592876, 16.93548387096774, 38.49056603773585, 41.91419141914191, 18.97810218978102, 10.09174311926605, 32.94117647058823, 47.54716981132075, 28.57142857142857, 8.33333333333333, 28.19148936170212, 22.98387096774193, 12.17391304347826, 14.615384615384611, 32.08191126279863, 29.39481268011527, 8.90410958904109, 34.210526315789465, 16.12903225806451, 30.6060606060606, 26.38888888888889, 16.46341463414634, 34.98694516971279, 42.33983286908078, 26.97368421052631, 32.81733746130031, 19.86301369863013, 34.52380952380952, 23.59550561797752, 28.24858757062147, 41.75824175824176, 40.10416666666667, 25.41436464088398, 41.05793450881612, 29.31937172774869, 56.926406926406926, 36.0, 42.96675191815857, 25.92592592592592, 59.479553903345725, 44.08945686900958, 40.11976047904191, 23.07692307692307, 41.50943396226415, 21.42857142857142, 19.473684210526308, 44.471744471744465, 43.44262295081967, 25.384615384615376, 52.54237288135594, 24.77064220183486, 53.090909090909086, 30.246913580246908, 48.84318766066838, 32.05741626794258, 26.589595375722542, 43.611111111111114], \"type\": \"measure\"}, {\"name\": \"type\", \"values\": [\"New Composers\", \"New Works\", \"New Works\", \"New Composers\", \"New Composers\", \"New Works\", \"New Composers\", \"New Works\", \"New Composers\", \"New Works\", \"New Works\", \"New Composers\", \"New Works\", \"New Composers\", \"New Works\", \"New Composers\", \"New Works\", \"New Composers\", \"New Works\", \"New Composers\", \"New Works\", \"New Composers\", \"New Works\", \"New Composers\", \"New Composers\", \"New Works\", \"New Composers\", \"New Works\", \"New Composers\", \"New Works\", \"New Works\", \"New Composers\", \"New Composers\", \"New Works\", \"New Works\", \"New Composers\", \"New Works\", \"New Composers\", \"New Works\", \"New Composers\", \"New Composers\", \"New Works\", \"New Works\", \"New Composers\", \"New Works\", \"New Composers\", \"New Works\", \"New Composers\", \"New Works\", \"New Composers\", \"New Works\", \"New Composers\", \"New Composers\", \"New Works\", \"New Works\", \"New Composers\", \"New Works\", \"New Composers\", \"New Works\", \"New Composers\", \"New Works\", \"New Composers\", \"New Composers\", \"New Works\", \"New Composers\", \"New Works\", \"New Composers\", \"New Works\", \"New Works\", \"New Composers\", \"New Works\", \"New Composers\", \"New Works\", \"New Composers\", \"New Works\", \"New Composers\", \"New Works\", \"New Composers\", \"New Works\", \"New Composers\", \"New Works\", \"New Composers\", \"New Works\", \"New Composers\", \"New Composers\", \"New Works\", \"New Works\", \"New Composers\", \"New Composers\", \"New Works\", \"New Composers\", \"New Works\", \"New Composers\", \"New Works\", \"New Composers\", \"New Works\", \"New Works\", \"New Composers\", \"New Composers\", \"New Works\", \"New Works\", \"New Composers\", \"New Works\", \"New Composers\", \"New Composers\", \"New Works\", \"New Works\", \"New Composers\", \"New Composers\", \"New Works\", \"New Works\", \"New Composers\", \"New Composers\", \"New Works\", \"New Composers\", \"New Works\", \"New Composers\", \"New Works\", \"New Composers\", \"New Works\", \"New Composers\", \"New Works\", \"New Composers\", \"New Works\", \"New Composers\", \"New Works\", \"New Works\", \"New Composers\", \"New Composers\", \"New Works\", \"New Composers\", \"New Works\", \"New Works\", \"New Composers\", \"New Works\", \"New Composers\", \"New Works\", \"New Composers\", \"New Works\", \"New Composers\", \"New Composers\", \"New Works\", \"New Composers\", \"New Works\", \"New Composers\", \"New Works\", \"New Composers\", \"New Works\", \"New Composers\", \"New Works\", \"New Works\", \"New Composers\", \"New Composers\", \"New Works\", \"New Composers\", \"New Works\", \"New Composers\", \"New Works\", \"New Composers\", \"New Works\", \"New Composers\", \"New Works\", \"New Works\", \"New Composers\", \"New Works\", \"New Composers\", \"New Works\", \"New Composers\", \"New Composers\", \"New Works\", \"New Composers\", \"New Works\", \"New Works\", \"New Composers\", \"New Composers\", \"New Works\", \"New Works\", \"New Composers\", \"New Composers\", \"New Works\", \"New Composers\", \"New Works\", \"New Works\", \"New Composers\", \"New Composers\", \"New Works\", \"New Composers\", \"New Works\", \"New Works\", \"New Composers\", \"New Works\", \"New Composers\", \"New Composers\", \"New Works\", \"New Composers\", \"New Works\", \"New Composers\", \"New Works\", \"New Composers\", \"New Works\", \"New Composers\", \"New Works\", \"New Works\", \"New Composers\", \"New Works\", \"New Composers\", \"New Composers\", \"New Works\", \"New Composers\", \"New Works\", \"New Works\", \"New Composers\", \"New Composers\", \"New Works\", \"New Composers\", \"New Works\", \"New Composers\", \"New Works\", \"New Works\", \"New Composers\", \"New Composers\", \"New Works\", \"New Composers\", \"New Works\", \"New Works\", \"New Composers\", \"New Works\", \"New Composers\", \"New Works\", \"New Composers\", \"New Works\", \"New Composers\", \"New Works\", \"New Composers\", \"New Works\", \"New Composers\", \"New Works\", \"New Composers\", \"New Works\", \"New Composers\", \"New Composers\", \"New Works\", \"New Composers\", \"New Works\", \"New Composers\", \"New Works\", \"New Works\", \"New Composers\", \"New Works\", \"New Composers\", \"New Composers\", \"New Works\", \"New Works\", \"New Composers\", \"New Composers\", \"New Works\", \"New Composers\", \"New Works\", \"New Composers\", \"New Works\", \"New Composers\", \"New Works\", \"New Works\", \"New Composers\", \"New Works\", \"New Composers\", \"New Composers\", \"New Works\", \"New Works\", \"New Composers\", \"New Composers\", \"New Works\", \"New Composers\", \"New Works\", \"New Composers\", \"New Works\", \"New Works\", \"New Composers\", \"New Works\", \"New Composers\", \"New Works\", \"New Composers\", \"New Composers\", \"New Works\", \"New Composers\", \"New Works\", \"New Works\", \"New Composers\", \"New Composers\", \"New Works\", \"New Composers\", \"New Works\", \"New Composers\", \"New Works\", \"New Works\", \"New Composers\", \"New Composers\", \"New Works\", \"New Works\", \"New Composers\", \"New Works\", \"New Composers\", \"New Works\", \"New Composers\", \"New Composers\", \"New Works\", \"New Composers\", \"New Works\", \"New Composers\", \"New Works\", \"New Works\", \"New Composers\", \"New Composers\", \"New Works\", \"New Works\", \"New Composers\", \"New Composers\", \"New Works\", \"New Works\", \"New Composers\", \"New Composers\", \"New Works\", \"New Works\", \"New Composers\", \"New Works\", \"New Composers\", \"New Works\", \"New Composers\", \"New Composers\", \"New Works\", \"New Works\", \"New Composers\", \"New Works\", \"New Composers\", \"New Works\", \"New Composers\", \"New Composers\", \"New Works\", \"New Works\", \"New Composers\", \"New Works\", \"New Composers\", \"New Works\", \"New Composers\", \"New Works\", \"New Composers\", \"New Works\", \"New Composers\", \"New Works\", \"New Composers\", \"New Works\", \"New Composers\", \"New Composers\", \"New Works\", \"New Works\", \"New Composers\", \"New Works\", \"New Composers\", \"New Works\", \"New Composers\", \"New Works\", \"New Composers\", \"New Composers\", \"New Works\"], \"type\": \"dimension\"}]}, \"style\": {\"plot\": {\"yAxis\": {\"label\": {\"fontSize\": \"1em\", \"paddingRight\": \"1.2em\"}}, \"xAxis\": {\"label\": {\"angle\": \"2.75\", \"fontSize\": \"1.1em\", \"paddingRight\": \"0em\", \"paddingTop\": \"1em\"}, \"title\": {\"fontSize\": \"1.166667em\"}}, \"marker\": {\"borderWidth\": 1.5, \"colorPalette\": \"#4171CDFF #F4941BFF\"}}, \"logo\": {\"filter\": \"color(#FFFFFFFF)\"}, \"legend\": {\"width\": 150}, \"title\": {\"fontSize\": \"1.8em\"}}} }, undefined);\nwindow.ipyvizzu.feature(element, '4c279ae', 'tooltip', true);\nwindow.ipyvizzu.setEvent(element, '4c279ae', 'b299f17', 'plot-axis-label-draw', event => { let Year = parseFloat(event.detail.text); if (Year % 10 !== 0 && Year > 1700) { event.preventDefault(); } });\nwindow.ipyvizzu.animate(element, '4c279ae', '490db98', 'manual', false, lib => { return {\"config\": {\"x\": \"season_year\", \"y\": [\"total\"], \"geometry\": \"line\", \"color\": \"type\", \"title\": \"Programming by Season: New Works and Composers\"}} }, undefined);\nwindow.ipyvizzu.animate(element, '4c279ae', 'ba3971e', 'manual', false, lib => { return {\"config\": {\"y\": \"percentage\", \"title\": \"Proportion of Season: New Works and Composers\"}} }, {\"delay\": 6, \"duration\": 2});\nwindow.ipyvizzu.animate(element, '4c279ae', 'f86da81', 'manual', false, lib => { return {\"config\": {\"x\": [\"decade\"], \"y\": \"mean(percentage)\", \"title\": \"Average Proportion of Season by Decade: New Works and Composers\"}} }, {\"delay\": 6, \"duration\": 3});\nwindow.ipyvizzu.animate(element, '4c279ae', 'b4c2e69', 'manual', false, lib => { return {\"config\": {\"x\": \"season_year\", \"y\": [\"total\"], \"title\": \"Programming by Season: New Works and Composers\"}} }, {\"delay\": 8});"
     },
     "metadata": {},
     "output_type": "display_data"
    }
   ],
   "source": [
    "chart = Chart(width=\"850px\", height=\"650px\", display=\"manual\")\n",
    "\n",
    "chart.animate(data, style)\n",
    "\n",
    "chart.feature(\"tooltip\", True)\n",
    "\n",
    "handler = \"\"\"\n",
    "let Year = parseFloat(event.detail.text);\n",
    "if (Year % 10 !== 0 && Year > 1700) {\n",
    "    event.preventDefault();\n",
    "}\n",
    "\"\"\"\n",
    "\n",
    "x_reduce = chart.on(\"plot-axis-label-draw\", handler)\n",
    "\n",
    "chart.animate(\n",
    "    Config({\n",
    "        \"x\": \"season_year\",\n",
    "        \"y\": [\"total\"],\n",
    "        \"geometry\": \"line\",\n",
    "        \"color\": 'type',\n",
    "        \"title\": \"Programming by Season: New Works and Composers\",\n",
    "        }),\n",
    ")\n",
    "\n",
    "chart.animate(\n",
    "    Config({\n",
    "        \"y\": \"percentage\",\n",
    "        \"title\": \"Proportion of Season: New Works and Composers\"\n",
    "    }),\n",
    "    delay=6,\n",
    "    duration=2\n",
    ")\n",
    "\n",
    "chart.animate(\n",
    "    Config({\n",
    "        \"x\": [\"decade\"],\n",
    "        \"y\": \"mean(percentage)\",\n",
    "        \"title\": \"Average Proportion of Season by Decade: New Works and Composers\"\n",
    "        }),\n",
    "    delay=6,\n",
    "    duration=3\n",
    ")\n",
    "\n",
    "chart.animate(\n",
    "    Config({\n",
    "        \"x\": \"season_year\",\n",
    "        \"y\": [\"total\"],\n",
    "        \"title\": \"Programming by Season: New Works and Composers\"\n",
    "        }),\n",
    "    delay=8\n",
    ")\n",
    "\n",
    "chart.show()"
   ]
  }
 ],
 "metadata": {
  "kernelspec": {
   "display_name": "base",
   "language": "python",
   "name": "python3"
  },
  "language_info": {
   "codemirror_mode": {
    "name": "ipython",
    "version": 3
   },
   "file_extension": ".py",
   "mimetype": "text/x-python",
   "name": "python",
   "nbconvert_exporter": "python",
   "pygments_lexer": "ipython3",
   "version": "3.12.4"
  }
 },
 "nbformat": 4,
 "nbformat_minor": 2
}
